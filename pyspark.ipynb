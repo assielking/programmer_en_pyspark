{
  "nbformat": 4,
  "nbformat_minor": 0,
  "metadata": {
    "colab": {
      "provenance": []
    },
    "kernelspec": {
      "name": "python3",
      "display_name": "Python 3"
    },
    "language_info": {
      "name": "python"
    }
  },
  "cells": [
    {
      "cell_type": "code",
      "execution_count": null,
      "metadata": {
        "colab": {
          "base_uri": "https://localhost:8080/"
        },
        "id": "jkNKTs3FxSCV",
        "outputId": "6cdfa49f-6a8f-4979-840d-8e0a3472f970"
      },
      "outputs": [
        {
          "output_type": "stream",
          "name": "stdout",
          "text": [
            "\u001b[2K     \u001b[90m━━━━━━━━━━━━━━━━━━━━━━━━━━━━━━━━━━━━━━━━\u001b[0m \u001b[32m317.0/317.0 MB\u001b[0m \u001b[31m1.8 MB/s\u001b[0m eta \u001b[36m0:00:00\u001b[0m\n",
            "\u001b[?25h  Preparing metadata (setup.py) ... \u001b[?25l\u001b[?25hdone\n",
            "  Building wheel for pyspark (setup.py) ... \u001b[?25l\u001b[?25hdone\n"
          ]
        }
      ],
      "source": [
        "!pip install pyspark -q\n",
        "!pip install findspark -q"
      ]
    },
    {
      "cell_type": "code",
      "source": [
        "# Création d'une session Spark\n",
        "from pyspark.sql import SparkSession\n",
        "spark = SparkSession.builder.appName(\"Final Project\").getOrCreate()"
      ],
      "metadata": {
        "id": "UTkr3kM6zLt5"
      },
      "execution_count": null,
      "outputs": []
    },
    {
      "cell_type": "markdown",
      "source": [
        "## Téléchargement des données"
      ],
      "metadata": {
        "id": "PNOZsUqW4NBM"
      }
    },
    {
      "cell_type": "markdown",
      "source": [
        "Source des données : https://data.cityofchicago.org/Public-Safety/Crimes-2001-to-Present/ijzp-q8t2/about_data"
      ],
      "metadata": {
        "id": "QeB5cwHM1T6F"
      }
    },
    {
      "cell_type": "code",
      "source": [
        "!wget https://data.cityofchicago.org/api/views/ijzp-q8t2/rows.csv?accessType=DOWNLOAD"
      ],
      "metadata": {
        "colab": {
          "base_uri": "https://localhost:8080/"
        },
        "id": "dD04__aFzMGC",
        "outputId": "f210bba5-0724-498e-efd3-ca3e8377c5c1"
      },
      "execution_count": null,
      "outputs": [
        {
          "output_type": "stream",
          "name": "stdout",
          "text": [
            "--2024-04-13 19:01:05--  https://data.cityofchicago.org/api/views/ijzp-q8t2/rows.csv?accessType=DOWNLOAD\n",
            "Resolving data.cityofchicago.org (data.cityofchicago.org)... 52.206.140.199, 52.206.68.26, 52.206.140.205\n",
            "Connecting to data.cityofchicago.org (data.cityofchicago.org)|52.206.140.199|:443... connected.\n",
            "HTTP request sent, awaiting response... 200 OK\n",
            "Length: unspecified [text/csv]\n",
            "Saving to: ‘rows.csv?accessType=DOWNLOAD’\n",
            "\n",
            "rows.csv?accessType     [          <=>       ]   1.77G  3.15MB/s    in 10m 36s \n",
            "\n",
            "2024-04-13 19:11:43 (2.84 MB/s) - ‘rows.csv?accessType=DOWNLOAD’ saved [1898215669]\n",
            "\n"
          ]
        }
      ]
    },
    {
      "cell_type": "code",
      "source": [
        "!ls"
      ],
      "metadata": {
        "colab": {
          "base_uri": "https://localhost:8080/"
        },
        "id": "xk9Q5t4-zMaq",
        "outputId": "31e32eea-070a-4354-8e36-18112327b2a8"
      },
      "execution_count": null,
      "outputs": [
        {
          "output_type": "stream",
          "name": "stdout",
          "text": [
            "'rows.csv?accessType=DOWNLOAD'\t sample_data\n"
          ]
        }
      ]
    },
    {
      "cell_type": "code",
      "source": [
        "!mv rows.csv?accessType=DOWNLOAD reported-crimes.csv"
      ],
      "metadata": {
        "id": "56FID0hv3_po"
      },
      "execution_count": null,
      "outputs": []
    },
    {
      "cell_type": "markdown",
      "source": [
        "## Ingestion des données"
      ],
      "metadata": {
        "id": "SDpbfyve4Hsi"
      }
    },
    {
      "cell_type": "code",
      "source": [
        "# Lecture du fichier\n",
        "df = spark.read.csv(\n",
        "    'reported-crimes.csv',\n",
        "    header = True\n",
        ")\n",
        "\n",
        "df.show(5)"
      ],
      "metadata": {
        "colab": {
          "base_uri": "https://localhost:8080/"
        },
        "id": "aTp2OKFw4IqZ",
        "outputId": "ed21129d-0ca0-409d-8a8c-d6e6b824bcb8"
      },
      "execution_count": null,
      "outputs": [
        {
          "output_type": "stream",
          "name": "stdout",
          "text": [
            "+--------+-----------+--------------------+--------------------+----+------------+--------------------+--------------------+------+--------+----+--------+----+--------------+--------+------------+------------+----+--------------------+------------+-------------+--------------------+\n",
            "|      ID|Case Number|                Date|               Block|IUCR|Primary Type|         Description|Location Description|Arrest|Domestic|Beat|District|Ward|Community Area|FBI Code|X Coordinate|Y Coordinate|Year|          Updated On|    Latitude|    Longitude|            Location|\n",
            "+--------+-----------+--------------------+--------------------+----+------------+--------------------+--------------------+------+--------+----+--------+----+--------------+--------+------------+------------+----+--------------------+------------+-------------+--------------------+\n",
            "| 5741943|   HN549294|08/25/2007 09:22:...|  074XX N ROGERS AVE|0560|     ASSAULT|              SIMPLE|               OTHER| false|   false|2422|     024|  49|             1|     08A|        NULL|        NULL|2007|08/17/2015 03:03:...|        NULL|         NULL|                NULL|\n",
            "|   25953|   JE240540|05/24/2021 03:06:...| 020XX N LARAMIE AVE|0110|    HOMICIDE| FIRST DEGREE MURDER|              STREET|  true|   false|2515|     025|  36|            19|     01A|     1141387|     1913179|2021|11/18/2023 03:39:...|41.917838056|-87.755968972|(41.917838056, -8...|\n",
            "|   26038|   JE279849|06/26/2021 09:24:...|062XX N MC CORMIC...|0110|    HOMICIDE| FIRST DEGREE MURDER|         PARKING LOT|  true|   false|1711|     017|  50|            13|     01A|     1152781|     1941458|2021|11/18/2023 03:39:...|41.995219444|-87.713354912|(41.995219444, -8...|\n",
            "|13279676|   JG507211|11/09/2023 07:30:...|    019XX W BYRON ST|0620|    BURGLARY|      UNLAWFUL ENTRY|           APARTMENT| false|   false|1922|     019|  47|             5|      05|     1162518|     1925906|2023|11/18/2023 03:39:...|41.952345086|-87.677975059|(41.952345086, -8...|\n",
            "|13274752|   JG501049|11/12/2023 07:59:...|086XX S COTTAGE G...|0454|     BATTERY|AGGRAVATED P.O. -...|  SMALL RETAIL STORE|  true|   false|0632|     006|   6|            44|     08B|     1183071|     1847869|2023|12/09/2023 03:41:...|41.737750767|-87.604855911|(41.737750767, -8...|\n",
            "+--------+-----------+--------------------+--------------------+----+------------+--------------------+--------------------+------+--------+----+--------+----+--------------+--------+------------+------------+----+--------------------+------------+-------------+--------------------+\n",
            "only showing top 5 rows\n",
            "\n"
          ]
        }
      ]
    },
    {
      "cell_type": "code",
      "source": [
        "df.count()"
      ],
      "metadata": {
        "colab": {
          "base_uri": "https://localhost:8080/"
        },
        "id": "CdsSsIo34Wec",
        "outputId": "3a8caf01-1b4e-47d0-f2e7-baed30e40a6d"
      },
      "execution_count": null,
      "outputs": [
        {
          "output_type": "execute_result",
          "data": {
            "text/plain": [
              "8037361"
            ]
          },
          "metadata": {},
          "execution_count": 7
        }
      ]
    },
    {
      "cell_type": "code",
      "source": [
        "type(df)"
      ],
      "metadata": {
        "colab": {
          "base_uri": "https://localhost:8080/",
          "height": 187
        },
        "id": "ko7d5oLh4W7b",
        "outputId": "1edf3d33-8a9d-4087-f858-e4ec47a4e89a"
      },
      "execution_count": null,
      "outputs": [
        {
          "output_type": "execute_result",
          "data": {
            "text/plain": [
              "pyspark.sql.dataframe.DataFrame"
            ],
            "text/html": [
              "<div style=\"max-width:800px; border: 1px solid var(--colab-border-color);\"><style>\n",
              "      pre.function-repr-contents {\n",
              "        overflow-x: auto;\n",
              "        padding: 8px 12px;\n",
              "        max-height: 500px;\n",
              "      }\n",
              "\n",
              "      pre.function-repr-contents.function-repr-contents-collapsed {\n",
              "        cursor: pointer;\n",
              "        max-height: 100px;\n",
              "      }\n",
              "    </style>\n",
              "    <pre style=\"white-space: initial; background:\n",
              "         var(--colab-secondary-surface-color); padding: 8px 12px;\n",
              "         border-bottom: 1px solid var(--colab-border-color);\"><b>pyspark.sql.dataframe.DataFrame</b><br/>def __init__(jdf: JavaObject, sql_ctx: Union[&#x27;SQLContext&#x27;, &#x27;SparkSession&#x27;])</pre><pre class=\"function-repr-contents function-repr-contents-collapsed\" style=\"\"><a class=\"filepath\" style=\"display:none\" href=\"#\">/usr/local/lib/python3.10/dist-packages/pyspark/sql/dataframe.py</a>A distributed collection of data grouped into named columns.\n",
              "\n",
              ".. versionadded:: 1.3.0\n",
              "\n",
              ".. versionchanged:: 3.4.0\n",
              "    Supports Spark Connect.\n",
              "\n",
              "Examples\n",
              "--------\n",
              "A :class:`DataFrame` is equivalent to a relational table in Spark SQL,\n",
              "and can be created using various functions in :class:`SparkSession`:\n",
              "\n",
              "&gt;&gt;&gt; people = spark.createDataFrame([\n",
              "...     {&quot;deptId&quot;: 1, &quot;age&quot;: 40, &quot;name&quot;: &quot;Hyukjin Kwon&quot;, &quot;gender&quot;: &quot;M&quot;, &quot;salary&quot;: 50},\n",
              "...     {&quot;deptId&quot;: 1, &quot;age&quot;: 50, &quot;name&quot;: &quot;Takuya Ueshin&quot;, &quot;gender&quot;: &quot;M&quot;, &quot;salary&quot;: 100},\n",
              "...     {&quot;deptId&quot;: 2, &quot;age&quot;: 60, &quot;name&quot;: &quot;Xinrong Meng&quot;, &quot;gender&quot;: &quot;F&quot;, &quot;salary&quot;: 150},\n",
              "...     {&quot;deptId&quot;: 3, &quot;age&quot;: 20, &quot;name&quot;: &quot;Haejoon Lee&quot;, &quot;gender&quot;: &quot;M&quot;, &quot;salary&quot;: 200}\n",
              "... ])\n",
              "\n",
              "Once created, it can be manipulated using the various domain-specific-language\n",
              "(DSL) functions defined in: :class:`DataFrame`, :class:`Column`.\n",
              "\n",
              "To select a column from the :class:`DataFrame`, use the apply method:\n",
              "\n",
              "&gt;&gt;&gt; age_col = people.age\n",
              "\n",
              "A more concrete example:\n",
              "\n",
              "&gt;&gt;&gt; # To create DataFrame using SparkSession\n",
              "... department = spark.createDataFrame([\n",
              "...     {&quot;id&quot;: 1, &quot;name&quot;: &quot;PySpark&quot;},\n",
              "...     {&quot;id&quot;: 2, &quot;name&quot;: &quot;ML&quot;},\n",
              "...     {&quot;id&quot;: 3, &quot;name&quot;: &quot;Spark SQL&quot;}\n",
              "... ])\n",
              "\n",
              "&gt;&gt;&gt; people.filter(people.age &gt; 30).join(\n",
              "...     department, people.deptId == department.id).groupBy(\n",
              "...     department.name, &quot;gender&quot;).agg({&quot;salary&quot;: &quot;avg&quot;, &quot;age&quot;: &quot;max&quot;}).show()\n",
              "+-------+------+-----------+--------+\n",
              "|   name|gender|avg(salary)|max(age)|\n",
              "+-------+------+-----------+--------+\n",
              "|     ML|     F|      150.0|      60|\n",
              "|PySpark|     M|       75.0|      50|\n",
              "+-------+------+-----------+--------+\n",
              "\n",
              "Notes\n",
              "-----\n",
              "A DataFrame should only be created as described above. It should not be directly\n",
              "created via using the constructor.</pre>\n",
              "      <script>\n",
              "      if (google.colab.kernel.accessAllowed && google.colab.files && google.colab.files.view) {\n",
              "        for (const element of document.querySelectorAll('.filepath')) {\n",
              "          element.style.display = 'block'\n",
              "          element.onclick = (event) => {\n",
              "            event.preventDefault();\n",
              "            event.stopPropagation();\n",
              "            google.colab.files.view(element.textContent, 80);\n",
              "          };\n",
              "        }\n",
              "      }\n",
              "      for (const element of document.querySelectorAll('.function-repr-contents')) {\n",
              "        element.onclick = (event) => {\n",
              "          event.preventDefault();\n",
              "          event.stopPropagation();\n",
              "          element.classList.toggle('function-repr-contents-collapsed');\n",
              "        };\n",
              "      }\n",
              "      </script>\n",
              "      </div>"
            ]
          },
          "metadata": {},
          "execution_count": 8
        }
      ]
    },
    {
      "cell_type": "code",
      "source": [
        "# Type des variables\n",
        "df.printSchema()"
      ],
      "metadata": {
        "colab": {
          "base_uri": "https://localhost:8080/"
        },
        "id": "byAWvLsN4XSL",
        "outputId": "730539a0-abbe-4f83-bf9e-06b6504f7e89"
      },
      "execution_count": null,
      "outputs": [
        {
          "output_type": "stream",
          "name": "stdout",
          "text": [
            "root\n",
            " |-- ID: string (nullable = true)\n",
            " |-- Case Number: string (nullable = true)\n",
            " |-- Date: string (nullable = true)\n",
            " |-- Block: string (nullable = true)\n",
            " |-- IUCR: string (nullable = true)\n",
            " |-- Primary Type: string (nullable = true)\n",
            " |-- Description: string (nullable = true)\n",
            " |-- Location Description: string (nullable = true)\n",
            " |-- Arrest: string (nullable = true)\n",
            " |-- Domestic: string (nullable = true)\n",
            " |-- Beat: string (nullable = true)\n",
            " |-- District: string (nullable = true)\n",
            " |-- Ward: string (nullable = true)\n",
            " |-- Community Area: string (nullable = true)\n",
            " |-- FBI Code: string (nullable = true)\n",
            " |-- X Coordinate: string (nullable = true)\n",
            " |-- Y Coordinate: string (nullable = true)\n",
            " |-- Year: string (nullable = true)\n",
            " |-- Updated On: string (nullable = true)\n",
            " |-- Latitude: string (nullable = true)\n",
            " |-- Longitude: string (nullable = true)\n",
            " |-- Location: string (nullable = true)\n",
            "\n"
          ]
        }
      ]
    },
    {
      "cell_type": "markdown",
      "source": [
        "## Manipulation des données"
      ],
      "metadata": {
        "id": "cCmtm-x94nCk"
      }
    },
    {
      "cell_type": "code",
      "source": [
        "from pyspark.sql.functions import to_timestamp, col"
      ],
      "metadata": {
        "id": "k7T8Q7WT4lkU"
      },
      "execution_count": null,
      "outputs": []
    },
    {
      "cell_type": "code",
      "source": [
        "df = df.withColumn(\n",
        "    'Date',\n",
        "    to_timestamp(col('Date'), 'MM/dd/yyyy hh:mm:ss a')\n",
        ")\n",
        "\n",
        "df.printSchema()"
      ],
      "metadata": {
        "colab": {
          "base_uri": "https://localhost:8080/"
        },
        "id": "EdZhPVEy4wm-",
        "outputId": "ed9cf4a1-2138-4dea-a39d-a224cc23fbf0"
      },
      "execution_count": null,
      "outputs": [
        {
          "output_type": "stream",
          "name": "stdout",
          "text": [
            "root\n",
            " |-- ID: string (nullable = true)\n",
            " |-- Case Number: string (nullable = true)\n",
            " |-- Date: timestamp (nullable = true)\n",
            " |-- Block: string (nullable = true)\n",
            " |-- IUCR: string (nullable = true)\n",
            " |-- Primary Type: string (nullable = true)\n",
            " |-- Description: string (nullable = true)\n",
            " |-- Location Description: string (nullable = true)\n",
            " |-- Arrest: string (nullable = true)\n",
            " |-- Domestic: string (nullable = true)\n",
            " |-- Beat: string (nullable = true)\n",
            " |-- District: string (nullable = true)\n",
            " |-- Ward: string (nullable = true)\n",
            " |-- Community Area: string (nullable = true)\n",
            " |-- FBI Code: string (nullable = true)\n",
            " |-- X Coordinate: string (nullable = true)\n",
            " |-- Y Coordinate: string (nullable = true)\n",
            " |-- Year: string (nullable = true)\n",
            " |-- Updated On: string (nullable = true)\n",
            " |-- Latitude: string (nullable = true)\n",
            " |-- Longitude: string (nullable = true)\n",
            " |-- Location: string (nullable = true)\n",
            "\n"
          ]
        }
      ]
    },
    {
      "cell_type": "code",
      "source": [
        "df.show(5)"
      ],
      "metadata": {
        "colab": {
          "base_uri": "https://localhost:8080/"
        },
        "id": "iQVx-A_U4zpb",
        "outputId": "407d61c8-b5de-4b4b-9147-8bb0f2befc20"
      },
      "execution_count": null,
      "outputs": [
        {
          "output_type": "stream",
          "name": "stdout",
          "text": [
            "+--------+-----------+-------------------+--------------------+----+------------+--------------------+--------------------+------+--------+----+--------+----+--------------+--------+------------+------------+----+--------------------+------------+-------------+--------------------+\n",
            "|      ID|Case Number|               Date|               Block|IUCR|Primary Type|         Description|Location Description|Arrest|Domestic|Beat|District|Ward|Community Area|FBI Code|X Coordinate|Y Coordinate|Year|          Updated On|    Latitude|    Longitude|            Location|\n",
            "+--------+-----------+-------------------+--------------------+----+------------+--------------------+--------------------+------+--------+----+--------+----+--------------+--------+------------+------------+----+--------------------+------------+-------------+--------------------+\n",
            "| 5741943|   HN549294|2007-08-25 09:22:18|  074XX N ROGERS AVE|0560|     ASSAULT|              SIMPLE|               OTHER| false|   false|2422|     024|  49|             1|     08A|        NULL|        NULL|2007|08/17/2015 03:03:...|        NULL|         NULL|                NULL|\n",
            "|   25953|   JE240540|2021-05-24 15:06:00| 020XX N LARAMIE AVE|0110|    HOMICIDE| FIRST DEGREE MURDER|              STREET|  true|   false|2515|     025|  36|            19|     01A|     1141387|     1913179|2021|11/18/2023 03:39:...|41.917838056|-87.755968972|(41.917838056, -8...|\n",
            "|   26038|   JE279849|2021-06-26 09:24:00|062XX N MC CORMIC...|0110|    HOMICIDE| FIRST DEGREE MURDER|         PARKING LOT|  true|   false|1711|     017|  50|            13|     01A|     1152781|     1941458|2021|11/18/2023 03:39:...|41.995219444|-87.713354912|(41.995219444, -8...|\n",
            "|13279676|   JG507211|2023-11-09 07:30:00|    019XX W BYRON ST|0620|    BURGLARY|      UNLAWFUL ENTRY|           APARTMENT| false|   false|1922|     019|  47|             5|      05|     1162518|     1925906|2023|11/18/2023 03:39:...|41.952345086|-87.677975059|(41.952345086, -8...|\n",
            "|13274752|   JG501049|2023-11-12 07:59:00|086XX S COTTAGE G...|0454|     BATTERY|AGGRAVATED P.O. -...|  SMALL RETAIL STORE|  true|   false|0632|     006|   6|            44|     08B|     1183071|     1847869|2023|12/09/2023 03:41:...|41.737750767|-87.604855911|(41.737750767, -8...|\n",
            "+--------+-----------+-------------------+--------------------+----+------------+--------------------+--------------------+------+--------+----+--------+----+--------------+--------+------------+------------+----+--------------------+------------+-------------+--------------------+\n",
            "only showing top 5 rows\n",
            "\n"
          ]
        }
      ]
    },
    {
      "cell_type": "code",
      "source": [
        "df.columns"
      ],
      "metadata": {
        "colab": {
          "base_uri": "https://localhost:8080/"
        },
        "id": "VcBeaRCs4z-Z",
        "outputId": "a90418a2-9dd9-4657-9cbf-5e405e7a2d86"
      },
      "execution_count": null,
      "outputs": [
        {
          "output_type": "execute_result",
          "data": {
            "text/plain": [
              "['ID',\n",
              " 'Case Number',\n",
              " 'Date',\n",
              " 'Block',\n",
              " 'IUCR',\n",
              " 'Primary Type',\n",
              " 'Description',\n",
              " 'Location Description',\n",
              " 'Arrest',\n",
              " 'Domestic',\n",
              " 'Beat',\n",
              " 'District',\n",
              " 'Ward',\n",
              " 'Community Area',\n",
              " 'FBI Code',\n",
              " 'X Coordinate',\n",
              " 'Y Coordinate',\n",
              " 'Year',\n",
              " 'Updated On',\n",
              " 'Latitude',\n",
              " 'Longitude',\n",
              " 'Location']"
            ]
          },
          "metadata": {},
          "execution_count": 13
        }
      ]
    },
    {
      "cell_type": "code",
      "source": [
        "df.select(col('Description')).show(5)"
      ],
      "metadata": {
        "colab": {
          "base_uri": "https://localhost:8080/"
        },
        "id": "DF2XrBF240QL",
        "outputId": "82ff9657-9302-4cfd-ca96-dd027a4ac93b"
      },
      "execution_count": null,
      "outputs": [
        {
          "output_type": "stream",
          "name": "stdout",
          "text": [
            "+--------------------+\n",
            "|         Description|\n",
            "+--------------------+\n",
            "|              SIMPLE|\n",
            "| FIRST DEGREE MURDER|\n",
            "| FIRST DEGREE MURDER|\n",
            "|      UNLAWFUL ENTRY|\n",
            "|AGGRAVATED P.O. -...|\n",
            "+--------------------+\n",
            "only showing top 5 rows\n",
            "\n"
          ]
        }
      ]
    },
    {
      "cell_type": "code",
      "source": [
        "df.select('Date', 'Description', 'Arrest').show(5)"
      ],
      "metadata": {
        "colab": {
          "base_uri": "https://localhost:8080/"
        },
        "id": "ADdUPWBf49Dq",
        "outputId": "70e395af-e878-4c5a-f5c7-931c6ef1a147"
      },
      "execution_count": null,
      "outputs": [
        {
          "output_type": "stream",
          "name": "stdout",
          "text": [
            "+-------------------+--------------------+------+\n",
            "|               Date|         Description|Arrest|\n",
            "+-------------------+--------------------+------+\n",
            "|2007-08-25 09:22:18|              SIMPLE| false|\n",
            "|2021-05-24 15:06:00| FIRST DEGREE MURDER|  true|\n",
            "|2021-06-26 09:24:00| FIRST DEGREE MURDER|  true|\n",
            "|2023-11-09 07:30:00|      UNLAWFUL ENTRY| false|\n",
            "|2023-11-12 07:59:00|AGGRAVATED P.O. -...|  true|\n",
            "+-------------------+--------------------+------+\n",
            "only showing top 5 rows\n",
            "\n"
          ]
        }
      ]
    },
    {
      "cell_type": "code",
      "source": [
        "from pyspark.sql.functions import lit"
      ],
      "metadata": {
        "id": "IkYS_cXu49gs"
      },
      "execution_count": null,
      "outputs": []
    },
    {
      "cell_type": "code",
      "source": [
        "df.withColumn('One', lit(1))"
      ],
      "metadata": {
        "colab": {
          "base_uri": "https://localhost:8080/"
        },
        "id": "-5peSl-w493f",
        "outputId": "9092a35b-0ba1-41e3-fe46-a9ea66ec1a7e"
      },
      "execution_count": null,
      "outputs": [
        {
          "output_type": "execute_result",
          "data": {
            "text/plain": [
              "DataFrame[ID: string, Case Number: string, Date: timestamp, Block: string, IUCR: string, Primary Type: string, Description: string, Location Description: string, Arrest: string, Domestic: string, Beat: string, District: string, Ward: string, Community Area: string, FBI Code: string, X Coordinate: string, Y Coordinate: string, Year: string, Updated On: string, Latitude: string, Longitude: string, Location: string, One: int]"
            ]
          },
          "metadata": {},
          "execution_count": 17
        }
      ]
    },
    {
      "cell_type": "code",
      "source": [
        "df.columns"
      ],
      "metadata": {
        "colab": {
          "base_uri": "https://localhost:8080/"
        },
        "id": "TkjC7lJI4-H-",
        "outputId": "c5f136f1-a586-4f7f-d648-a363a60368ee"
      },
      "execution_count": null,
      "outputs": [
        {
          "output_type": "execute_result",
          "data": {
            "text/plain": [
              "['ID',\n",
              " 'Case Number',\n",
              " 'Date',\n",
              " 'Block',\n",
              " 'IUCR',\n",
              " 'Primary Type',\n",
              " 'Description',\n",
              " 'Location Description',\n",
              " 'Arrest',\n",
              " 'Domestic',\n",
              " 'Beat',\n",
              " 'District',\n",
              " 'Ward',\n",
              " 'Community Area',\n",
              " 'FBI Code',\n",
              " 'X Coordinate',\n",
              " 'Y Coordinate',\n",
              " 'Year',\n",
              " 'Updated On',\n",
              " 'Latitude',\n",
              " 'Longitude',\n",
              " 'Location']"
            ]
          },
          "metadata": {},
          "execution_count": 18
        }
      ]
    },
    {
      "cell_type": "code",
      "source": [
        "# Crimes signalés le 25-12-2023\n",
        "one_day = df.filter(col('Date') == lit('2023-12-25'))\n",
        "one_day"
      ],
      "metadata": {
        "colab": {
          "base_uri": "https://localhost:8080/"
        },
        "id": "0Y4fQmfp4-cT",
        "outputId": "2c05f0af-cf67-4552-8e51-a571ecfeb8ff"
      },
      "execution_count": null,
      "outputs": [
        {
          "output_type": "execute_result",
          "data": {
            "text/plain": [
              "DataFrame[ID: string, Case Number: string, Date: timestamp, Block: string, IUCR: string, Primary Type: string, Description: string, Location Description: string, Arrest: string, Domestic: string, Beat: string, District: string, Ward: string, Community Area: string, FBI Code: string, X Coordinate: string, Y Coordinate: string, Year: string, Updated On: string, Latitude: string, Longitude: string, Location: string]"
            ]
          },
          "metadata": {},
          "execution_count": 19
        }
      ]
    },
    {
      "cell_type": "code",
      "source": [
        "one_day.count()"
      ],
      "metadata": {
        "colab": {
          "base_uri": "https://localhost:8080/"
        },
        "id": "caiMbwDF5MRS",
        "outputId": "6c6fed91-b9f8-45d1-d16d-84e3cd13e649"
      },
      "execution_count": null,
      "outputs": [
        {
          "output_type": "execute_result",
          "data": {
            "text/plain": [
              "24"
            ]
          },
          "metadata": {},
          "execution_count": 20
        }
      ]
    },
    {
      "cell_type": "code",
      "source": [
        "one_day.show()"
      ],
      "metadata": {
        "colab": {
          "base_uri": "https://localhost:8080/"
        },
        "id": "fjyp0N-P5Mn4",
        "outputId": "a0c1f257-cff4-4eb7-c8cb-cf98515deadd"
      },
      "execution_count": null,
      "outputs": [
        {
          "output_type": "stream",
          "name": "stdout",
          "text": [
            "+--------+-----------+-------------------+--------------------+----+--------------------+--------------------+--------------------+------+--------+----+--------+----+--------------+--------+------------+------------+----+--------------------+------------+-------------+--------------------+\n",
            "|      ID|Case Number|               Date|               Block|IUCR|        Primary Type|         Description|Location Description|Arrest|Domestic|Beat|District|Ward|Community Area|FBI Code|X Coordinate|Y Coordinate|Year|          Updated On|    Latitude|    Longitude|            Location|\n",
            "+--------+-----------+-------------------+--------------------+----+--------------------+--------------------+--------------------+------+--------+----+--------+----+--------------+--------+------------+------------+----+--------------------+------------+-------------+--------------------+\n",
            "|13318703|   JG554228|2023-12-25 00:00:00|     035XX W 58TH ST|5001|       OTHER OFFENSE|OTHER CRIME INVOL...|           APARTMENT| false|   false|0822|     008|  14|            63|      26|     1153847|     1865929|2023|01/01/2024 03:41:...|41.787939234|-87.711447285|(41.787939234, -8...|\n",
            "|13321478|   JG557372|2023-12-25 00:00:00| 077XX S ASHLAND AVE|1130|  DECEPTIVE PRACTICE|FRAUD OR CONFIDEN...|           APARTMENT| false|   false|0612|     006|  17|            71|      11|     1167016|     1853492|2023|01/01/2024 03:41:...|41.753538951|-87.663516805|(41.753538951, -8...|\n",
            "|13318884|   JG554431|2023-12-25 00:00:00|054XX W FULLERTON...|0560|             ASSAULT|              SIMPLE|           APARTMENT| false|    true|2515|     025|  31|            19|     08A|     1139841|     1915427|2023|01/01/2024 03:41:...|41.924035234|-87.761594059|(41.924035234, -8...|\n",
            "|13318368|   JG553821|2023-12-25 00:00:00| 010XX N LA SALLE DR|0560|             ASSAULT|              SIMPLE|            SIDEWALK| false|   false|1824|     018|   2|             8|     08A|     1174943|     1907477|2023|01/01/2024 03:41:...|41.901505411| -87.63285424|(41.901505411, -8...|\n",
            "|13318475|   JG553993|2023-12-25 00:00:00| 078XX S LANGLEY AVE|0810|               THEFT|           OVER $500|              STREET| false|   false|0624|     006|   6|            69|      06|     1182252|     1853243|2023|01/01/2024 03:41:...|41.752516599| -87.60769045|(41.752516599, -8...|\n",
            "|13320136|   JG555955|2023-12-25 00:00:00|    059XX N NEVA AVE|0820|               THEFT|      $500 AND UNDER|              STREET| false|   false|1612|     016|  41|            10|      06|     1127703|     1939053|2023|01/01/2024 03:41:...|41.989081057|-87.805660262|(41.989081057, -8...|\n",
            "|13319432|   JG555008|2023-12-25 00:00:00|097XX S MICHIGAN AVE|0560|             ASSAULT|              SIMPLE|           RESIDENCE| false|    true|0511|     005|   9|            49|     08A|     1178864|     1840441|2023|01/01/2024 03:41:...|41.717464086|-87.620494507|(41.717464086, -8...|\n",
            "|13321436|   JG554999|2023-12-25 00:00:00|  027XX W MEDILL AVE|0910| MOTOR VEHICLE THEFT|          AUTOMOBILE|              STREET| false|   false|1431|     014|   1|            22|      07|     1157667|     1915493|2023|01/01/2024 03:41:...|41.923871514|-87.696092023|(41.923871514, -8...|\n",
            "|13321988|   JG554563|2023-12-25 00:00:00|036XX N MAGNOLIA AVE|0930| MOTOR VEHICLE THEFT|THEFT / RECOVERY ...|              STREET| false|   false|1923|     019|  44|             6|      07|     1167308|     1924397|2023|01/01/2024 03:41:...|41.948102465|-87.660410519|(41.948102465, -8...|\n",
            "|13318496|   JG554028|2023-12-25 00:00:00|  002XX N WALLER AVE|0820|               THEFT|      $500 AND UNDER|              STREET| false|   false|1512|     015|  29|            25|      06|     1138112|     1901061|2023|01/01/2024 03:41:...|41.884644659|-87.768294892|(41.884644659, -8...|\n",
            "|13318892|   JG554441|2023-12-25 00:00:00|088XX S CARPENTER ST|0920| MOTOR VEHICLE THEFT|ATTEMPT - AUTOMOBILE|              STREET| false|   false|2222|     022|  21|            71|      07|     1170860|     1846267|2023|01/01/2024 03:41:...|41.733629585|-87.649640304|(41.733629585, -8...|\n",
            "|13320360|   JG555939|2023-12-25 00:00:00|  047XX N RACINE AVE|0265|CRIMINAL SEXUAL A...|  AGGRAVATED - OTHER|           APARTMENT| false|   false|1913|     019|  46|             3|      02|     1167458|     1931452|2023|01/01/2024 03:41:...|41.967458424|-87.659655286|(41.967458424, -8...|\n",
            "|13319398|   JG555051|2023-12-25 00:00:00|  030XX W JARLATH ST|0430|             BATTERY|AGGRAVATED - OTHE...|           RESIDENCE| false|   false|2411|     024|  50|             2|     04B|     1154979|     1947902|2023|01/01/2024 03:41:...|42.012858093|-87.705095615|(42.012858093, -8...|\n",
            "|13318532|   JG554056|2023-12-25 00:00:00|   006XX W MONROE ST|1320|     CRIMINAL DAMAGE|          TO VEHICLE|              STREET| false|   false|0121|     001|  34|            28|      14|     1172243|     1899816|2023|01/01/2024 03:41:...|41.880543228|-87.642997936|(41.880543228, -8...|\n",
            "|13319146|   JG554711|2023-12-25 00:00:00|034XX W IRVING PA...|0920| MOTOR VEHICLE THEFT|ATTEMPT - AUTOMOBILE|              STREET| false|   false|1723|     017|  33|            16|      07|     1152802|     1926381|2023|01/01/2024 03:41:...| 41.95384684|-87.713678833|(41.95384684, -87...|\n",
            "|13321425|   JG557395|2023-12-25 00:00:00|   019XX W OGDEN AVE|1220|  DECEPTIVE PRACTICE|THEFT OF LOST / M...|VEHICLE - OTHER R...| false|   false|1225|     012|  28|            28|      11|     1163673|     1897489|2023|01/01/2024 03:41:...|41.874342594|-87.674531651|(41.874342594, -8...|\n",
            "|13318458|   JG553938|2023-12-25 00:00:00|     027XX W 68TH ST|0460|             BATTERY|              SIMPLE|HOSPITAL BUILDING...| false|   false|0831|     008|  16|            66|     08B|     1159381|     1859440|2023|01/01/2024 03:41:...|41.770020864|  -87.6913338|(41.770020864, -8...|\n",
            "|13320187|   JG556018|2023-12-25 00:00:00|   010XX W TAYLOR ST|0820|               THEFT|      $500 AND UNDER|              STREET| false|   false|1232|     012|  34|            28|      06|     1169951|     1895772|2023|01/01/2024 03:41:...|41.869496477|-87.651531841|(41.869496477, -8...|\n",
            "|13318663|   JG554118|2023-12-25 00:00:00| 004XX S FRANKLIN ST|0810|               THEFT|           OVER $500|PARKING LOT / GAR...| false|   false|0122|     001|  34|            32|      06|     1174386|     1898413|2023|01/01/2024 03:41:...|41.876645737|-87.635171022|(41.876645737, -8...|\n",
            "|13318726|   JG554241|2023-12-25 00:00:00|   020XX S MORGAN ST|0910| MOTOR VEHICLE THEFT|          AUTOMOBILE|              STREET| false|   false|1235|     012|  25|            31|      07|     1170010|     1890399|2023|01/01/2024 03:41:...|41.854751251|-87.651471903|(41.854751251, -8...|\n",
            "+--------+-----------+-------------------+--------------------+----+--------------------+--------------------+--------------------+------+--------+----+--------+----+--------------+--------+------------+------------+----+--------------------+------------+-------------+--------------------+\n",
            "only showing top 20 rows\n",
            "\n"
          ]
        }
      ]
    },
    {
      "cell_type": "code",
      "source": [
        "one_day.distinct().count()"
      ],
      "metadata": {
        "colab": {
          "base_uri": "https://localhost:8080/"
        },
        "id": "IA0swvkG5M7T",
        "outputId": "c5c1ea3d-5ae0-4e06-99d1-551e525f68e2"
      },
      "execution_count": null,
      "outputs": [
        {
          "output_type": "execute_result",
          "data": {
            "text/plain": [
              "24"
            ]
          },
          "metadata": {},
          "execution_count": 22
        }
      ]
    },
    {
      "cell_type": "markdown",
      "source": [
        "## Analyse des données"
      ],
      "metadata": {
        "id": "LSMlO25z59BY"
      }
    },
    {
      "cell_type": "code",
      "source": [
        "df.groupBy('Primary Type').count().show()"
      ],
      "metadata": {
        "colab": {
          "base_uri": "https://localhost:8080/"
        },
        "id": "De8KCVV35l0_",
        "outputId": "7cc2d2a8-4751-4d2b-8168-1f85ea5b1392"
      },
      "execution_count": null,
      "outputs": [
        {
          "output_type": "stream",
          "name": "stdout",
          "text": [
            "+--------------------+-------+\n",
            "|        Primary Type|  count|\n",
            "+--------------------+-------+\n",
            "|OFFENSE INVOLVING...|  57608|\n",
            "|CRIMINAL SEXUAL A...|   8483|\n",
            "|            STALKING|   5284|\n",
            "|PUBLIC PEACE VIOL...|  53166|\n",
            "|           OBSCENITY|    865|\n",
            "|               ARSON|  13748|\n",
            "|   DOMESTIC VIOLENCE|      1|\n",
            "|            GAMBLING|  14634|\n",
            "|   CRIMINAL TRESPASS| 218787|\n",
            "|             ASSAULT| 529230|\n",
            "|LIQUOR LAW VIOLATION|  15085|\n",
            "| MOTOR VEHICLE THEFT| 401467|\n",
            "|               THEFT|1697834|\n",
            "|             BATTERY|1465855|\n",
            "|             ROBBERY| 302969|\n",
            "|            HOMICIDE|  13142|\n",
            "|           RITUALISM|     24|\n",
            "|    PUBLIC INDECENCY|    200|\n",
            "| CRIM SEXUAL ASSAULT|  27503|\n",
            "|   HUMAN TRAFFICKING|    105|\n",
            "+--------------------+-------+\n",
            "only showing top 20 rows\n",
            "\n"
          ]
        }
      ]
    },
    {
      "cell_type": "code",
      "source": [
        "df.select(\"Arrest\").distinct().show()"
      ],
      "metadata": {
        "colab": {
          "base_uri": "https://localhost:8080/"
        },
        "id": "pkYNTTQO5mIR",
        "outputId": "33f49305-fada-4dab-9f86-b1cf11193cd3"
      },
      "execution_count": null,
      "outputs": [
        {
          "output_type": "stream",
          "name": "stdout",
          "text": [
            "+------+\n",
            "|Arrest|\n",
            "+------+\n",
            "| false|\n",
            "|  true|\n",
            "+------+\n",
            "\n"
          ]
        }
      ]
    },
    {
      "cell_type": "code",
      "source": [
        "df.filter(col(\"Arrest\") == \"true\").count() / df.select(\"Arrest\").count()"
      ],
      "metadata": {
        "colab": {
          "base_uri": "https://localhost:8080/"
        },
        "id": "3GK3pJs25mkC",
        "outputId": "1f924823-b0db-4703-9d1b-bf8707e7227a"
      },
      "execution_count": null,
      "outputs": [
        {
          "output_type": "execute_result",
          "data": {
            "text/plain": [
              "0.25712481995022995"
            ]
          },
          "metadata": {},
          "execution_count": 25
        }
      ]
    },
    {
      "cell_type": "code",
      "source": [
        "n_location = df.groupBy(\"Location Description\").count()\n",
        "n_location.show()"
      ],
      "metadata": {
        "colab": {
          "base_uri": "https://localhost:8080/"
        },
        "id": "7LoDIpoy5m8G",
        "outputId": "55127f76-0506-4121-d1e5-d015558b6b1d"
      },
      "execution_count": null,
      "outputs": [
        {
          "output_type": "stream",
          "name": "stdout",
          "text": [
            "+--------------------+------+\n",
            "|Location Description| count|\n",
            "+--------------------+------+\n",
            "|   RAILROAD PROPERTY|    15|\n",
            "|SCHOOL - PRIVATE ...|  1040|\n",
            "|AIRPORT TERMINAL ...|  2489|\n",
            "|VEHICLE - COMMERCIAL|   863|\n",
            "|EXPRESSWAY EMBANK...|     1|\n",
            "|RESIDENCE - YARD ...| 11565|\n",
            "|POLICE FACILITY/V...| 18566|\n",
            "|               MOTEL|     7|\n",
            "|CHA PARKING LOT /...|  1783|\n",
            "|            SIDEWALK|741740|\n",
            "|AIRPORT TERMINAL ...|   131|\n",
            "|PUBLIC GRAMMAR SC...|     2|\n",
            "|OTHER RAILROAD PR...|   477|\n",
            "|            CAR WASH|  3450|\n",
            "|   TRUCKING TERMINAL|     1|\n",
            "|    AIRPORT/AIRCRAFT| 16284|\n",
            "|            HOSPITAL|    14|\n",
            "|    FEDERAL BUILDING|  1003|\n",
            "|MEDICAL/DENTAL OF...|  7430|\n",
            "|             TRAILER|     4|\n",
            "+--------------------+------+\n",
            "only showing top 20 rows\n",
            "\n"
          ]
        }
      ]
    },
    {
      "cell_type": "code",
      "source": [
        "n_location.orderBy('count', ascending=False).show()"
      ],
      "metadata": {
        "colab": {
          "base_uri": "https://localhost:8080/"
        },
        "id": "a90TvQte609T",
        "outputId": "6fe42a91-461f-4428-cdba-cc14de0917f9"
      },
      "execution_count": null,
      "outputs": [
        {
          "output_type": "stream",
          "name": "stdout",
          "text": [
            "+--------------------+-------+\n",
            "|Location Description|  count|\n",
            "+--------------------+-------+\n",
            "|              STREET|2099565|\n",
            "|           RESIDENCE|1336324|\n",
            "|           APARTMENT| 926886|\n",
            "|            SIDEWALK| 741740|\n",
            "|               OTHER| 270006|\n",
            "|PARKING LOT/GARAG...| 202963|\n",
            "|               ALLEY| 178758|\n",
            "|  SMALL RETAIL STORE| 154693|\n",
            "|SCHOOL, PUBLIC, B...| 146373|\n",
            "|    RESIDENCE-GARAGE| 135523|\n",
            "|          RESTAURANT| 132621|\n",
            "|VEHICLE NON-COMME...| 127595|\n",
            "|RESIDENCE PORCH/H...| 124190|\n",
            "|    DEPARTMENT STORE| 102897|\n",
            "|  GROCERY FOOD STORE| 101105|\n",
            "|         GAS STATION|  89470|\n",
            "|RESIDENTIAL YARD ...|  75148|\n",
            "|COMMERCIAL / BUSI...|  63920|\n",
            "|       PARK PROPERTY|  60445|\n",
            "|CHA PARKING LOT/G...|  56101|\n",
            "+--------------------+-------+\n",
            "only showing top 20 rows\n",
            "\n"
          ]
        }
      ]
    },
    {
      "cell_type": "code",
      "source": [
        "df.select('Primary Type').show(30, truncate=False)"
      ],
      "metadata": {
        "colab": {
          "base_uri": "https://localhost:8080/"
        },
        "id": "drfY1uz861Yn",
        "outputId": "d346942d-d7ef-43cc-cffd-425eb610fef8"
      },
      "execution_count": null,
      "outputs": [
        {
          "output_type": "stream",
          "name": "stdout",
          "text": [
            "+--------------------------+\n",
            "|Primary Type              |\n",
            "+--------------------------+\n",
            "|ASSAULT                   |\n",
            "|HOMICIDE                  |\n",
            "|HOMICIDE                  |\n",
            "|BURGLARY                  |\n",
            "|BATTERY                   |\n",
            "|THEFT                     |\n",
            "|CRIMINAL DAMAGE           |\n",
            "|DECEPTIVE PRACTICE        |\n",
            "|CRIMINAL SEXUAL ASSAULT   |\n",
            "|THEFT                     |\n",
            "|CRIMINAL DAMAGE           |\n",
            "|THEFT                     |\n",
            "|DECEPTIVE PRACTICE        |\n",
            "|THEFT                     |\n",
            "|THEFT                     |\n",
            "|DECEPTIVE PRACTICE        |\n",
            "|OFFENSE INVOLVING CHILDREN|\n",
            "|MOTOR VEHICLE THEFT       |\n",
            "|THEFT                     |\n",
            "|DECEPTIVE PRACTICE        |\n",
            "|MOTOR VEHICLE THEFT       |\n",
            "|MOTOR VEHICLE THEFT       |\n",
            "|ROBBERY                   |\n",
            "|ASSAULT                   |\n",
            "|ROBBERY                   |\n",
            "|CRIMINAL SEXUAL ASSAULT   |\n",
            "|ROBBERY                   |\n",
            "|OFFENSE INVOLVING CHILDREN|\n",
            "|OFFENSE INVOLVING CHILDREN|\n",
            "|OFFENSE INVOLVING CHILDREN|\n",
            "+--------------------------+\n",
            "only showing top 30 rows\n",
            "\n"
          ]
        }
      ]
    },
    {
      "cell_type": "code",
      "source": [
        "n_crime_type = df.select('Primary Type').distinct().count()\n",
        "n_crime_type"
      ],
      "metadata": {
        "colab": {
          "base_uri": "https://localhost:8080/"
        },
        "id": "hRgNt_q161qN",
        "outputId": "860ce087-64d8-48ba-f6e6-3fac5a67ee9b"
      },
      "execution_count": null,
      "outputs": [
        {
          "output_type": "execute_result",
          "data": {
            "text/plain": [
              "36"
            ]
          },
          "metadata": {},
          "execution_count": 29
        }
      ]
    },
    {
      "cell_type": "code",
      "source": [
        "df.select('Primary Type').distinct().show(n_crime_type, truncate=False)"
      ],
      "metadata": {
        "colab": {
          "base_uri": "https://localhost:8080/"
        },
        "id": "Vf79lRge619Z",
        "outputId": "c4a16653-1307-4992-a861-cb43ac6ebb71"
      },
      "execution_count": null,
      "outputs": [
        {
          "output_type": "stream",
          "name": "stdout",
          "text": [
            "+---------------------------------+\n",
            "|Primary Type                     |\n",
            "+---------------------------------+\n",
            "|OFFENSE INVOLVING CHILDREN       |\n",
            "|CRIMINAL SEXUAL ASSAULT          |\n",
            "|STALKING                         |\n",
            "|PUBLIC PEACE VIOLATION           |\n",
            "|OBSCENITY                        |\n",
            "|ARSON                            |\n",
            "|DOMESTIC VIOLENCE                |\n",
            "|GAMBLING                         |\n",
            "|CRIMINAL TRESPASS                |\n",
            "|ASSAULT                          |\n",
            "|LIQUOR LAW VIOLATION             |\n",
            "|MOTOR VEHICLE THEFT              |\n",
            "|THEFT                            |\n",
            "|BATTERY                          |\n",
            "|ROBBERY                          |\n",
            "|HOMICIDE                         |\n",
            "|RITUALISM                        |\n",
            "|PUBLIC INDECENCY                 |\n",
            "|CRIM SEXUAL ASSAULT              |\n",
            "|HUMAN TRAFFICKING                |\n",
            "|INTIMIDATION                     |\n",
            "|PROSTITUTION                     |\n",
            "|DECEPTIVE PRACTICE               |\n",
            "|CONCEALED CARRY LICENSE VIOLATION|\n",
            "|SEX OFFENSE                      |\n",
            "|CRIMINAL DAMAGE                  |\n",
            "|NARCOTICS                        |\n",
            "|NON-CRIMINAL                     |\n",
            "|OTHER OFFENSE                    |\n",
            "|KIDNAPPING                       |\n",
            "|BURGLARY                         |\n",
            "|WEAPONS VIOLATION                |\n",
            "|OTHER NARCOTIC VIOLATION         |\n",
            "|INTERFERENCE WITH PUBLIC OFFICER |\n",
            "|NON-CRIMINAL (SUBJECT SPECIFIED) |\n",
            "|NON - CRIMINAL                   |\n",
            "+---------------------------------+\n",
            "\n"
          ]
        }
      ]
    },
    {
      "cell_type": "code",
      "source": [
        "# Dataframe des activités non-criminelles (à revoir)\n",
        "nc = df.filter(\n",
        "    (col('Primary Type') == 'NON - CRIMINAL') | (col('Primary Type') == 'NON-CRIMINAL') | (col('Primary Type') == 'NON-CRIMINAL (SUBJECT SPECIFIED)')\n",
        ")\n",
        "\n",
        "nc.show()"
      ],
      "metadata": {
        "colab": {
          "base_uri": "https://localhost:8080/"
        },
        "id": "USyfh-Og7StS",
        "outputId": "d925521e-96dc-4b01-f3ff-99ca6116aa06"
      },
      "execution_count": null,
      "outputs": [
        {
          "output_type": "stream",
          "name": "stdout",
          "text": [
            "+--------+-----------+-------------------+--------------------+----+--------------------+--------------------+--------------------+------+--------+----+--------+----+--------------+--------+------------+------------+----+--------------------+------------+-------------+--------------------+\n",
            "|      ID|Case Number|               Date|               Block|IUCR|        Primary Type|         Description|Location Description|Arrest|Domestic|Beat|District|Ward|Community Area|FBI Code|X Coordinate|Y Coordinate|Year|          Updated On|    Latitude|    Longitude|            Location|\n",
            "+--------+-----------+-------------------+--------------------+----+--------------------+--------------------+--------------------+------+--------+----+--------+----+--------------+--------+------------+------------+----+--------------------+------------+-------------+--------------------+\n",
            "|13280353|   JG507932|2023-11-17 13:17:00|014XX S BLUE ISLA...|1481|        NON-CRIMINAL|CONCEALED CARRY L...|POLICE FACILITY /...| false|   false|1233|     012|  28|            28|      15|     1168519|     1893359|2023|11/25/2023 03:41:...|41.862906101|-87.656858884|(41.862906101, -8...|\n",
            "| 8773145|   HV447848|2012-08-25 15:00:00|    100XX W OHARE ST|5093|        NON-CRIMINAL|       LOST PASSPORT|AIRPORT TERMINAL ...|  true|   false|1651|     016|  41|            76|      26|     1100658|     1934241|2012|02/10/2018 03:50:...|41.976290414|-87.905227221|(41.976290414, -8...|\n",
            "| 8602092|   HV276324|2012-05-07 22:30:00|    001XX W ADAMS ST|5093|        NON-CRIMINAL|       LOST PASSPORT|             TAXICAB| false|   false|0122|     001|  42|            32|      26|     1175062|     1899421|2012|02/04/2016 06:33:...|41.879396635|-87.632658775|(41.879396635, -8...|\n",
            "| 8701089|   HV377321|2012-07-06 22:00:00|   009XX W ROSCOE ST|5093|        NON-CRIMINAL|       LOST PASSPORT|            SIDEWALK| false|   false|1924|     019|  44|             6|      26|     1169358|     1922759|2012|02/04/2016 06:33:...|41.943563314|-87.652923006|(41.943563314, -8...|\n",
            "| 8613948|   HV287619|2012-05-05 15:00:00|004XX N MICHIGAN AVE|5093|        NON-CRIMINAL|       LOST PASSPORT|              STREET| false|   false|1834|     018|  42|             8|      26|     1177329|     1903108|2012|02/04/2016 06:33:...| 41.88946287|-87.624222942|(41.88946287, -87...|\n",
            "| 8714358|   HV390850|2012-07-19 16:00:00|008XX N MICHIGAN AVE|5093|        NON-CRIMINAL|       LOST PASSPORT|COMMERCIAL / BUSI...| false|   false|1833|     018|  42|             8|      26|     1177338|     1906181|2012|02/10/2018 03:50:...|41.897895128|-87.624096605|(41.897895128, -8...|\n",
            "| 8720297|   HV397127|2012-07-21 02:00:00|  0000X W HUBBARD ST|5093|        NON-CRIMINAL|       LOST PASSPORT|              STREET| false|   false|1831|     018|  42|             8|      26|     1176050|     1903312|2012|02/04/2016 06:33:...|41.890051565| -87.62891376|(41.890051565, -8...|\n",
            "| 8920098|   HV592222|2012-12-06 23:30:00|     020XX W 51ST ST|5073|NON-CRIMINAL (SUB...|NOTIFICATION OF C...|           APARTMENT| false|    true|0931|     009|  16|            61|      26|     1163437|     1870837|2012|02/10/2018 03:50:...|41.801211675|-87.676146832|(41.801211675, -8...|\n",
            "| 8819689|   HV492871|2012-09-26 17:20:00| 059XX N ROCKWELL ST|5073|NON-CRIMINAL (SUB...|NOTIFICATION OF C...|            SIDEWALK|  true|   false|2011|     020|  40|             2|      26|     1157923|     1939345|2012|02/10/2018 03:50:...| 41.98931757|-87.694498035|(41.98931757, -87...|\n",
            "| 9062806|   HW207631|2013-03-26 16:00:00|067XX S JEFFERY BLVD|5094|        NON-CRIMINAL|      FOUND PASSPORT|             CTA BUS| false|   false|0332|     003|   5|            43|      26|     1190703|     1860780|2013|02/10/2018 03:50:...|41.772998982|-87.576478539|(41.772998982, -8...|\n",
            "| 9148621|   HW294531|2013-05-01 09:00:00|034XX N LAKE SHOR...|5093|        NON-CRIMINAL|       LOST PASSPORT|           APARTMENT|  true|   false|1925|     019|  44|             6|      26|     1172449|     1923411|2013|02/10/2018 03:50:...|41.945284535|-87.641542722|(41.945284535, -8...|\n",
            "| 9436491|   HW580783|2013-12-17 22:00:00|  057XX S CICERO AVE|5093|        NON-CRIMINAL|       LOST PASSPORT|            AIRCRAFT| false|   false|0813|     008|  23|            56|      26|     1145654|     1866253|2013|02/10/2018 03:50:...|41.788987036| -87.74147999|(41.788987036, -8...|\n",
            "| 9284607|   HW428723|2013-08-29 09:30:00|    007XX E 111TH ST|5114|      NON - CRIMINAL|   FOID - REVOCATION|POLICE FACILITY/V...| false|   false|0531|     005|   9|            50|      26|     1183356|     1831503|2013|02/10/2018 03:50:...|41.692833841| -87.60431945|(41.692833841, -8...|\n",
            "| 9406560|   HW549849|2013-11-27 10:20:00|    022XX E 103RD ST|5114|      NON - CRIMINAL|   FOID - REVOCATION|POLICE FACILITY/V...| false|   false|0434|     004|  10|            51|      26|     1192874|     1837123|2013|02/10/2018 03:50:...|41.708029389|-87.569290282|(41.708029389, -8...|\n",
            "| 9402173|   HW545106|2013-11-22 02:00:00|  002XX W ONTARIO ST|5093|        NON-CRIMINAL|       LOST PASSPORT|       BAR OR TAVERN| false|   false|1831|     018|  42|             8|      26|     1174469|     1904439|2013|02/10/2018 03:50:...|41.893179585|-87.634686145|(41.893179585, -8...|\n",
            "| 9366682|   HW510040|2013-10-28 07:15:00|     019XX W OHIO ST|5114|      NON - CRIMINAL|   FOID - REVOCATION|           RESIDENCE| false|   false|1221|     012|   1|            24|      26|     1163389|     1904029|2013|02/10/2018 03:50:...|41.892294874|-87.675390277|(41.892294874, -8...|\n",
            "| 9640214|   HX290853|2014-06-05 10:00:00|026XX S CALIFORNI...|5114|      NON - CRIMINAL|   FOID - REVOCATION|GOVERNMENT BUILDI...| false|   false|1033|     010|  12|            30|      26|     1158136|     1886128|2014|02/10/2018 03:50:...|41.843281635|-87.695171094|(41.843281635, -8...|\n",
            "| 9684549|   HX334987|2014-06-30 10:00:00|062XX W EASTWOOD AVE|5114|      NON - CRIMINAL|   FOID - REVOCATION|              STREET| false|   false|1622|     016|  38|            15|      26|     1133693|     1930201|2014|02/10/2018 03:50:...|41.964686958|-87.783836648|(41.964686958, -8...|\n",
            "| 9507785|   HX163428|2014-02-24 21:18:00|   029XX S LOOMIS ST|5073|NON-CRIMINAL (SUB...|NOTIFICATION OF C...|           APARTMENT| false|    true|0913|     009|  11|            60|      26|     1168619|     1885264|2014|02/04/2016 06:33:...|41.840690549|-87.656725939|(41.840690549, -8...|\n",
            "| 9683937|   HX334584|2014-07-04 03:00:00|    037XX N CLARK ST|5093|        NON-CRIMINAL|       LOST PASSPORT|            SIDEWALK| false|   false|1923|     019|  44|             6|      26|     1167839|     1924947|2014|02/10/2018 03:50:...|41.949600232|-87.658442769|(41.949600232, -8...|\n",
            "+--------+-----------+-------------------+--------------------+----+--------------------+--------------------+--------------------+------+--------+----+--------+----+--------------+--------+------------+------------+----+--------------------+------------+-------------+--------------------+\n",
            "only showing top 20 rows\n",
            "\n"
          ]
        }
      ]
    },
    {
      "cell_type": "code",
      "source": [
        "nc.count()"
      ],
      "metadata": {
        "colab": {
          "base_uri": "https://localhost:8080/"
        },
        "id": "7UjI0v3G7S83",
        "outputId": "ff07810f-95f2-4cbf-bc73-220e05540f9e"
      },
      "execution_count": null,
      "outputs": [
        {
          "output_type": "execute_result",
          "data": {
            "text/plain": [
              "231"
            ]
          },
          "metadata": {},
          "execution_count": 32
        }
      ]
    },
    {
      "cell_type": "code",
      "source": [
        "nc.groupBy('Description').count().orderBy('count', ascending=False).show()"
      ],
      "metadata": {
        "colab": {
          "base_uri": "https://localhost:8080/"
        },
        "id": "Q2QLRjfu7TQv",
        "outputId": "f23f5754-ba8b-44d2-801b-b178a52b159a"
      },
      "execution_count": null,
      "outputs": [
        {
          "output_type": "stream",
          "name": "stdout",
          "text": [
            "+--------------------+-----+\n",
            "|         Description|count|\n",
            "+--------------------+-----+\n",
            "|       LOST PASSPORT|  111|\n",
            "|   FOID - REVOCATION|   76|\n",
            "|CONCEALED CARRY L...|   20|\n",
            "|NOTIFICATION OF C...|    9|\n",
            "|NOTIFICATION OF S...|    8|\n",
            "|      FOUND PASSPORT|    4|\n",
            "|GUN OFFENDER NOTI...|    3|\n",
            "+--------------------+-----+\n",
            "\n"
          ]
        }
      ]
    },
    {
      "cell_type": "code",
      "source": [
        "from pyspark.sql import functions\n",
        "dir(functions)"
      ],
      "metadata": {
        "colab": {
          "base_uri": "https://localhost:8080/"
        },
        "id": "ZLdAfuI68Ly-",
        "outputId": "c76d5f89-84bd-4a66-9e76-63f705c913ed"
      },
      "execution_count": null,
      "outputs": [
        {
          "output_type": "execute_result",
          "data": {
            "text/plain": [
              "['Any',\n",
              " 'ArrayType',\n",
              " 'Callable',\n",
              " 'Column',\n",
              " 'DataFrame',\n",
              " 'DataType',\n",
              " 'Dict',\n",
              " 'Iterable',\n",
              " 'JVMView',\n",
              " 'List',\n",
              " 'Optional',\n",
              " 'PandasUDFType',\n",
              " 'PySparkTypeError',\n",
              " 'PySparkValueError',\n",
              " 'SparkContext',\n",
              " 'StringType',\n",
              " 'StructType',\n",
              " 'TYPE_CHECKING',\n",
              " 'Tuple',\n",
              " 'Type',\n",
              " 'Union',\n",
              " 'UserDefinedFunction',\n",
              " 'UserDefinedTableFunction',\n",
              " 'ValuesView',\n",
              " '__builtins__',\n",
              " '__cached__',\n",
              " '__doc__',\n",
              " '__file__',\n",
              " '__loader__',\n",
              " '__name__',\n",
              " '__package__',\n",
              " '__spec__',\n",
              " '_create_column_from_literal',\n",
              " '_create_lambda',\n",
              " '_create_py_udf',\n",
              " '_create_py_udtf',\n",
              " '_from_numpy_type',\n",
              " '_get_jvm_function',\n",
              " '_get_lambda_parameters',\n",
              " '_invoke_binary_math_function',\n",
              " '_invoke_function',\n",
              " '_invoke_function_over_columns',\n",
              " '_invoke_function_over_seq_of_columns',\n",
              " '_invoke_higher_order_function',\n",
              " '_options_to_str',\n",
              " '_test',\n",
              " '_to_java_column',\n",
              " '_to_seq',\n",
              " '_unresolved_named_lambda_variable',\n",
              " 'abs',\n",
              " 'acos',\n",
              " 'acosh',\n",
              " 'add_months',\n",
              " 'aes_decrypt',\n",
              " 'aes_encrypt',\n",
              " 'aggregate',\n",
              " 'any_value',\n",
              " 'approxCountDistinct',\n",
              " 'approx_count_distinct',\n",
              " 'approx_percentile',\n",
              " 'array',\n",
              " 'array_agg',\n",
              " 'array_append',\n",
              " 'array_compact',\n",
              " 'array_contains',\n",
              " 'array_distinct',\n",
              " 'array_except',\n",
              " 'array_insert',\n",
              " 'array_intersect',\n",
              " 'array_join',\n",
              " 'array_max',\n",
              " 'array_min',\n",
              " 'array_position',\n",
              " 'array_prepend',\n",
              " 'array_remove',\n",
              " 'array_repeat',\n",
              " 'array_size',\n",
              " 'array_sort',\n",
              " 'array_union',\n",
              " 'arrays_overlap',\n",
              " 'arrays_zip',\n",
              " 'asc',\n",
              " 'asc_nulls_first',\n",
              " 'asc_nulls_last',\n",
              " 'ascii',\n",
              " 'asin',\n",
              " 'asinh',\n",
              " 'assert_true',\n",
              " 'atan',\n",
              " 'atan2',\n",
              " 'atanh',\n",
              " 'avg',\n",
              " 'base64',\n",
              " 'bin',\n",
              " 'bit_and',\n",
              " 'bit_count',\n",
              " 'bit_get',\n",
              " 'bit_length',\n",
              " 'bit_or',\n",
              " 'bit_xor',\n",
              " 'bitmap_bit_position',\n",
              " 'bitmap_bucket_number',\n",
              " 'bitmap_construct_agg',\n",
              " 'bitmap_count',\n",
              " 'bitmap_or_agg',\n",
              " 'bitwiseNOT',\n",
              " 'bitwise_not',\n",
              " 'bool_and',\n",
              " 'bool_or',\n",
              " 'broadcast',\n",
              " 'bround',\n",
              " 'btrim',\n",
              " 'bucket',\n",
              " 'call_function',\n",
              " 'call_udf',\n",
              " 'cardinality',\n",
              " 'cast',\n",
              " 'cbrt',\n",
              " 'ceil',\n",
              " 'ceiling',\n",
              " 'char',\n",
              " 'char_length',\n",
              " 'character_length',\n",
              " 'coalesce',\n",
              " 'col',\n",
              " 'collect_list',\n",
              " 'collect_set',\n",
              " 'column',\n",
              " 'concat',\n",
              " 'concat_ws',\n",
              " 'contains',\n",
              " 'conv',\n",
              " 'convert_timezone',\n",
              " 'corr',\n",
              " 'cos',\n",
              " 'cosh',\n",
              " 'cot',\n",
              " 'count',\n",
              " 'countDistinct',\n",
              " 'count_distinct',\n",
              " 'count_if',\n",
              " 'count_min_sketch',\n",
              " 'covar_pop',\n",
              " 'covar_samp',\n",
              " 'crc32',\n",
              " 'create_map',\n",
              " 'csc',\n",
              " 'cume_dist',\n",
              " 'curdate',\n",
              " 'current_catalog',\n",
              " 'current_database',\n",
              " 'current_date',\n",
              " 'current_schema',\n",
              " 'current_timestamp',\n",
              " 'current_timezone',\n",
              " 'current_user',\n",
              " 'date_add',\n",
              " 'date_diff',\n",
              " 'date_format',\n",
              " 'date_from_unix_date',\n",
              " 'date_part',\n",
              " 'date_sub',\n",
              " 'date_trunc',\n",
              " 'dateadd',\n",
              " 'datediff',\n",
              " 'datepart',\n",
              " 'day',\n",
              " 'dayofmonth',\n",
              " 'dayofweek',\n",
              " 'dayofyear',\n",
              " 'days',\n",
              " 'decimal',\n",
              " 'decode',\n",
              " 'degrees',\n",
              " 'dense_rank',\n",
              " 'desc',\n",
              " 'desc_nulls_first',\n",
              " 'desc_nulls_last',\n",
              " 'e',\n",
              " 'element_at',\n",
              " 'elt',\n",
              " 'encode',\n",
              " 'endswith',\n",
              " 'equal_null',\n",
              " 'every',\n",
              " 'exists',\n",
              " 'exp',\n",
              " 'explode',\n",
              " 'explode_outer',\n",
              " 'expm1',\n",
              " 'expr',\n",
              " 'extract',\n",
              " 'factorial',\n",
              " 'filter',\n",
              " 'find_in_set',\n",
              " 'first',\n",
              " 'first_value',\n",
              " 'flatten',\n",
              " 'floor',\n",
              " 'forall',\n",
              " 'format_number',\n",
              " 'format_string',\n",
              " 'from_csv',\n",
              " 'from_json',\n",
              " 'from_unixtime',\n",
              " 'from_utc_timestamp',\n",
              " 'functools',\n",
              " 'get',\n",
              " 'get_active_spark_context',\n",
              " 'get_json_object',\n",
              " 'getbit',\n",
              " 'greatest',\n",
              " 'grouping',\n",
              " 'grouping_id',\n",
              " 'has_numpy',\n",
              " 'hash',\n",
              " 'hex',\n",
              " 'histogram_numeric',\n",
              " 'hll_sketch_agg',\n",
              " 'hll_sketch_estimate',\n",
              " 'hll_union',\n",
              " 'hll_union_agg',\n",
              " 'hour',\n",
              " 'hours',\n",
              " 'hypot',\n",
              " 'ifnull',\n",
              " 'ilike',\n",
              " 'initcap',\n",
              " 'inline',\n",
              " 'inline_outer',\n",
              " 'input_file_block_length',\n",
              " 'input_file_block_start',\n",
              " 'input_file_name',\n",
              " 'inspect',\n",
              " 'instr',\n",
              " 'isnan',\n",
              " 'isnotnull',\n",
              " 'isnull',\n",
              " 'java_method',\n",
              " 'json_array_length',\n",
              " 'json_object_keys',\n",
              " 'json_tuple',\n",
              " 'kurtosis',\n",
              " 'lag',\n",
              " 'last',\n",
              " 'last_day',\n",
              " 'last_value',\n",
              " 'lcase',\n",
              " 'lead',\n",
              " 'least',\n",
              " 'left',\n",
              " 'length',\n",
              " 'levenshtein',\n",
              " 'like',\n",
              " 'lit',\n",
              " 'ln',\n",
              " 'localtimestamp',\n",
              " 'locate',\n",
              " 'log',\n",
              " 'log10',\n",
              " 'log1p',\n",
              " 'log2',\n",
              " 'lower',\n",
              " 'lpad',\n",
              " 'ltrim',\n",
              " 'make_date',\n",
              " 'make_dt_interval',\n",
              " 'make_interval',\n",
              " 'make_timestamp',\n",
              " 'make_timestamp_ltz',\n",
              " 'make_timestamp_ntz',\n",
              " 'make_ym_interval',\n",
              " 'map_concat',\n",
              " 'map_contains_key',\n",
              " 'map_entries',\n",
              " 'map_filter',\n",
              " 'map_from_arrays',\n",
              " 'map_from_entries',\n",
              " 'map_keys',\n",
              " 'map_values',\n",
              " 'map_zip_with',\n",
              " 'mask',\n",
              " 'max',\n",
              " 'max_by',\n",
              " 'md5',\n",
              " 'mean',\n",
              " 'median',\n",
              " 'min',\n",
              " 'min_by',\n",
              " 'minute',\n",
              " 'mode',\n",
              " 'monotonically_increasing_id',\n",
              " 'month',\n",
              " 'months',\n",
              " 'months_between',\n",
              " 'named_struct',\n",
              " 'nanvl',\n",
              " 'negate',\n",
              " 'negative',\n",
              " 'next_day',\n",
              " 'now',\n",
              " 'np',\n",
              " 'nth_value',\n",
              " 'ntile',\n",
              " 'nullif',\n",
              " 'nvl',\n",
              " 'nvl2',\n",
              " 'octet_length',\n",
              " 'overlay',\n",
              " 'overload',\n",
              " 'pandas_udf',\n",
              " 'parse_url',\n",
              " 'percent_rank',\n",
              " 'percentile',\n",
              " 'percentile_approx',\n",
              " 'pi',\n",
              " 'pmod',\n",
              " 'posexplode',\n",
              " 'posexplode_outer',\n",
              " 'position',\n",
              " 'positive',\n",
              " 'pow',\n",
              " 'power',\n",
              " 'printf',\n",
              " 'product',\n",
              " 'quarter',\n",
              " 'radians',\n",
              " 'raise_error',\n",
              " 'rand',\n",
              " 'randn',\n",
              " 'rank',\n",
              " 'reduce',\n",
              " 'reflect',\n",
              " 'regexp',\n",
              " 'regexp_count',\n",
              " 'regexp_extract',\n",
              " 'regexp_extract_all',\n",
              " 'regexp_instr',\n",
              " 'regexp_like',\n",
              " 'regexp_replace',\n",
              " 'regexp_substr',\n",
              " 'regr_avgx',\n",
              " 'regr_avgy',\n",
              " 'regr_count',\n",
              " 'regr_intercept',\n",
              " 'regr_r2',\n",
              " 'regr_slope',\n",
              " 'regr_sxx',\n",
              " 'regr_sxy',\n",
              " 'regr_syy',\n",
              " 'repeat',\n",
              " 'replace',\n",
              " 'reverse',\n",
              " 'right',\n",
              " 'rint',\n",
              " 'rlike',\n",
              " 'round',\n",
              " 'row_number',\n",
              " 'rpad',\n",
              " 'rtrim',\n",
              " 'schema_of_csv',\n",
              " 'schema_of_json',\n",
              " 'sec',\n",
              " 'second',\n",
              " 'sentences',\n",
              " 'sequence',\n",
              " 'session_window',\n",
              " 'sha',\n",
              " 'sha1',\n",
              " 'sha2',\n",
              " 'shiftLeft',\n",
              " 'shiftRight',\n",
              " 'shiftRightUnsigned',\n",
              " 'shiftleft',\n",
              " 'shiftright',\n",
              " 'shiftrightunsigned',\n",
              " 'shuffle',\n",
              " 'sign',\n",
              " 'signum',\n",
              " 'sin',\n",
              " 'sinh',\n",
              " 'size',\n",
              " 'skewness',\n",
              " 'slice',\n",
              " 'some',\n",
              " 'sort_array',\n",
              " 'soundex',\n",
              " 'spark_partition_id',\n",
              " 'split',\n",
              " 'split_part',\n",
              " 'sqrt',\n",
              " 'stack',\n",
              " 'startswith',\n",
              " 'std',\n",
              " 'stddev',\n",
              " 'stddev_pop',\n",
              " 'stddev_samp',\n",
              " 'str_to_map',\n",
              " 'struct',\n",
              " 'substr',\n",
              " 'substring',\n",
              " 'substring_index',\n",
              " 'sum',\n",
              " 'sumDistinct',\n",
              " 'sum_distinct',\n",
              " 'sys',\n",
              " 'tan',\n",
              " 'tanh',\n",
              " 'timestamp_micros',\n",
              " 'timestamp_millis',\n",
              " 'timestamp_seconds',\n",
              " 'toDegrees',\n",
              " 'toRadians',\n",
              " 'to_binary',\n",
              " 'to_char',\n",
              " 'to_csv',\n",
              " 'to_date',\n",
              " 'to_json',\n",
              " 'to_number',\n",
              " 'to_str',\n",
              " 'to_timestamp',\n",
              " 'to_timestamp_ltz',\n",
              " 'to_timestamp_ntz',\n",
              " 'to_unix_timestamp',\n",
              " 'to_utc_timestamp',\n",
              " 'to_varchar',\n",
              " 'transform',\n",
              " 'transform_keys',\n",
              " 'transform_values',\n",
              " 'translate',\n",
              " 'trim',\n",
              " 'trunc',\n",
              " 'try_add',\n",
              " 'try_aes_decrypt',\n",
              " 'try_avg',\n",
              " 'try_divide',\n",
              " 'try_element_at',\n",
              " 'try_multiply',\n",
              " 'try_remote_functions',\n",
              " 'try_subtract',\n",
              " 'try_sum',\n",
              " 'try_to_binary',\n",
              " 'try_to_number',\n",
              " 'try_to_timestamp',\n",
              " 'typeof',\n",
              " 'ucase',\n",
              " 'udf',\n",
              " 'udtf',\n",
              " 'unbase64',\n",
              " 'unhex',\n",
              " 'unix_date',\n",
              " 'unix_micros',\n",
              " 'unix_millis',\n",
              " 'unix_seconds',\n",
              " 'unix_timestamp',\n",
              " 'unwrap_udt',\n",
              " 'upper',\n",
              " 'url_decode',\n",
              " 'url_encode',\n",
              " 'user',\n",
              " 'var_pop',\n",
              " 'var_samp',\n",
              " 'variance',\n",
              " 'version',\n",
              " 'warnings',\n",
              " 'weekday',\n",
              " 'weekofyear',\n",
              " 'when',\n",
              " 'width_bucket',\n",
              " 'window',\n",
              " 'window_time',\n",
              " 'xpath',\n",
              " 'xpath_boolean',\n",
              " 'xpath_double',\n",
              " 'xpath_float',\n",
              " 'xpath_int',\n",
              " 'xpath_long',\n",
              " 'xpath_number',\n",
              " 'xpath_short',\n",
              " 'xpath_string',\n",
              " 'xxhash64',\n",
              " 'year',\n",
              " 'years',\n",
              " 'zip_with']"
            ]
          },
          "metadata": {},
          "execution_count": 34
        }
      ]
    },
    {
      "cell_type": "code",
      "source": [
        "len(dir(functions))"
      ],
      "metadata": {
        "colab": {
          "base_uri": "https://localhost:8080/"
        },
        "id": "ssoVUYZ48MDI",
        "outputId": "25ab4f99-d643-464b-ec5c-1d084074c920"
      },
      "execution_count": null,
      "outputs": [
        {
          "output_type": "execute_result",
          "data": {
            "text/plain": [
              "484"
            ]
          },
          "metadata": {},
          "execution_count": 35
        }
      ]
    }
  ]
}